{
 "cells": [
  {
   "cell_type": "code",
   "execution_count": 1,
   "metadata": {},
   "outputs": [],
   "source": [
    "import argparse\n",
    "import ConfigSpace\n",
    "import matplotlib.pyplot as plt\n",
    "import pandas as pd\n",
    "from random_search import RandomSearch\n",
    "from surrogate_model import SurrogateModel"
   ]
  },
  {
   "cell_type": "code",
   "execution_count": 2,
   "metadata": {},
   "outputs": [],
   "source": [
    "df = pd.read_csv(\"lcdb_configs.csv\")\n",
    "config_space = ConfigSpace.ConfigurationSpace.from_json('lcdb_config_space_knn.json')\n",
    "surrogate_model = SurrogateModel(config_space)\n",
    "surrogate_model.fit(df)"
   ]
  },
  {
   "cell_type": "code",
   "execution_count": 9,
   "metadata": {},
   "outputs": [],
   "source": [
    "thetas = config_space.sample_configuration(10)\n",
    "X = pd.DataFrame(thetas,index=[x for x in range(len(thetas))])"
   ]
  },
  {
   "cell_type": "code",
   "execution_count": 48,
   "metadata": {},
   "outputs": [],
   "source": [
    "import numpy as np \n",
    "performances = np.random.rand(len(thetas))\n",
    "R = [(theta,performance) for theta,performance in zip(thetas,performances)]\n",
    "X = pd.DataFrame([row for row,_ in R], index = [x for x in range(len(R))])"
   ]
  },
  {
   "cell_type": "code",
   "execution_count": 51,
   "metadata": {},
   "outputs": [
    {
     "data": {
      "text/plain": [
       "[0, 1, 2, 3, 4, 5, 6, 7, 8, 9]"
      ]
     },
     "execution_count": 51,
     "metadata": {},
     "output_type": "execute_result"
    }
   ],
   "source": [
    "[x for x in range(len(R))]"
   ]
  },
  {
   "cell_type": "code",
   "execution_count": 56,
   "metadata": {},
   "outputs": [
    {
     "data": {
      "text/html": [
       "<div>\n",
       "<style scoped>\n",
       "    .dataframe tbody tr th:only-of-type {\n",
       "        vertical-align: middle;\n",
       "    }\n",
       "\n",
       "    .dataframe tbody tr th {\n",
       "        vertical-align: top;\n",
       "    }\n",
       "\n",
       "    .dataframe thead th {\n",
       "        text-align: right;\n",
       "    }\n",
       "</style>\n",
       "<table border=\"1\" class=\"dataframe\">\n",
       "  <thead>\n",
       "    <tr style=\"text-align: right;\">\n",
       "      <th></th>\n",
       "      <th>metric</th>\n",
       "      <th>n_neighbors</th>\n",
       "      <th>p</th>\n",
       "      <th>pp@cat_encoder</th>\n",
       "      <th>pp@decomposition</th>\n",
       "      <th>pp@featuregen</th>\n",
       "      <th>pp@featureselector</th>\n",
       "      <th>pp@scaler</th>\n",
       "      <th>pp@selectp_percentile</th>\n",
       "      <th>pp@std_with_std</th>\n",
       "      <th>weights</th>\n",
       "    </tr>\n",
       "  </thead>\n",
       "  <tbody>\n",
       "    <tr>\n",
       "      <th>0</th>\n",
       "      <td>minkowski</td>\n",
       "      <td>1</td>\n",
       "      <td>8</td>\n",
       "      <td>onehot</td>\n",
       "      <td>none</td>\n",
       "      <td>none</td>\n",
       "      <td>selectp</td>\n",
       "      <td>std</td>\n",
       "      <td>91</td>\n",
       "      <td>True</td>\n",
       "      <td>uniform</td>\n",
       "    </tr>\n",
       "  </tbody>\n",
       "</table>\n",
       "</div>"
      ],
      "text/plain": [
       "      metric  n_neighbors  p pp@cat_encoder pp@decomposition pp@featuregen  \\\n",
       "0  minkowski            1  8         onehot             none          none   \n",
       "\n",
       "  pp@featureselector pp@scaler  pp@selectp_percentile  pp@std_with_std  \\\n",
       "0            selectp       std                     91             True   \n",
       "\n",
       "   weights  \n",
       "0  uniform  "
      ]
     },
     "execution_count": 56,
     "metadata": {},
     "output_type": "execute_result"
    }
   ],
   "source": [
    "pd.DataFrame([R[0][0]],index=[0])"
   ]
  }
 ],
 "metadata": {
  "kernelspec": {
   "display_name": "Python 3",
   "language": "python",
   "name": "python3"
  },
  "language_info": {
   "codemirror_mode": {
    "name": "ipython",
    "version": 3
   },
   "file_extension": ".py",
   "mimetype": "text/x-python",
   "name": "python",
   "nbconvert_exporter": "python",
   "pygments_lexer": "ipython3",
   "version": "3.12.6"
  }
 },
 "nbformat": 4,
 "nbformat_minor": 2
}
